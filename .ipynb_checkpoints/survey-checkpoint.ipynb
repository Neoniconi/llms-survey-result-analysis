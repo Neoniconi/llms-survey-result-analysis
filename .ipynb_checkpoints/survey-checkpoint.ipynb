{
 "cells": [
  {
   "cell_type": "code",
   "execution_count": 1,
   "id": "10eb6170-6430-45a9-bea9-e35b200beaa5",
   "metadata": {},
   "outputs": [],
   "source": [
    "import pandas as pd\n",
    "import researchpy as rp\n",
    "import scipy.stats as stats"
   ]
  },
  {
   "cell_type": "code",
   "execution_count": 2,
   "id": "3ad2c969-8e62-4801-9083-3ad81eb0d010",
   "metadata": {},
   "outputs": [],
   "source": [
    "df = pd.read_csv(\"./result.csv\")"
   ]
  },
  {
   "cell_type": "code",
   "execution_count": 3,
   "id": "66eaaee8-d5f3-49e7-952f-b7e0837f0f0d",
   "metadata": {},
   "outputs": [
    {
     "name": "stdout",
     "output_type": "stream",
     "text": [
      "\n",
      "\n"
     ]
    },
    {
     "data": {
      "text/html": [
       "<div>\n",
       "<style scoped>\n",
       "    .dataframe tbody tr th:only-of-type {\n",
       "        vertical-align: middle;\n",
       "    }\n",
       "\n",
       "    .dataframe tbody tr th {\n",
       "        vertical-align: top;\n",
       "    }\n",
       "\n",
       "    .dataframe thead th {\n",
       "        text-align: right;\n",
       "    }\n",
       "</style>\n",
       "<table border=\"1\" class=\"dataframe\">\n",
       "  <thead>\n",
       "    <tr style=\"text-align: right;\">\n",
       "      <th></th>\n",
       "      <th>N</th>\n",
       "      <th>Mean</th>\n",
       "      <th>SD</th>\n",
       "      <th>SE</th>\n",
       "      <th>95% Conf.</th>\n",
       "      <th>Interval</th>\n",
       "    </tr>\n",
       "    <tr>\n",
       "      <th>Model</th>\n",
       "      <th></th>\n",
       "      <th></th>\n",
       "      <th></th>\n",
       "      <th></th>\n",
       "      <th></th>\n",
       "      <th></th>\n",
       "    </tr>\n",
       "  </thead>\n",
       "  <tbody>\n",
       "    <tr>\n",
       "      <th>ChatGPT-4o</th>\n",
       "      <td>294</td>\n",
       "      <td>4.0986</td>\n",
       "      <td>1.0615</td>\n",
       "      <td>0.0619</td>\n",
       "      <td>3.9768</td>\n",
       "      <td>4.2205</td>\n",
       "    </tr>\n",
       "    <tr>\n",
       "      <th>Gemini</th>\n",
       "      <td>294</td>\n",
       "      <td>3.9524</td>\n",
       "      <td>1.1674</td>\n",
       "      <td>0.0681</td>\n",
       "      <td>3.8184</td>\n",
       "      <td>4.0864</td>\n",
       "    </tr>\n",
       "    <tr>\n",
       "      <th>Llama-3</th>\n",
       "      <td>309</td>\n",
       "      <td>4.0841</td>\n",
       "      <td>1.1507</td>\n",
       "      <td>0.0655</td>\n",
       "      <td>3.9553</td>\n",
       "      <td>4.2129</td>\n",
       "    </tr>\n",
       "    <tr>\n",
       "      <th>human</th>\n",
       "      <td>318</td>\n",
       "      <td>3.9245</td>\n",
       "      <td>1.1568</td>\n",
       "      <td>0.0649</td>\n",
       "      <td>3.7969</td>\n",
       "      <td>4.0522</td>\n",
       "    </tr>\n",
       "  </tbody>\n",
       "</table>\n",
       "</div>"
      ],
      "text/plain": [
       "              N    Mean      SD      SE  95% Conf.  Interval\n",
       "Model                                                       \n",
       "ChatGPT-4o  294  4.0986  1.0615  0.0619     3.9768    4.2205\n",
       "Gemini      294  3.9524  1.1674  0.0681     3.8184    4.0864\n",
       "Llama-3     309  4.0841  1.1507  0.0655     3.9553    4.2129\n",
       "human       318  3.9245  1.1568  0.0649     3.7969    4.0522"
      ]
     },
     "execution_count": 3,
     "metadata": {},
     "output_type": "execute_result"
    }
   ],
   "source": [
    "rp.summary_cont(df['Score'].groupby(df['Model']))"
   ]
  },
  {
   "cell_type": "code",
   "execution_count": 4,
   "id": "9562ced7-6015-45f1-8b92-077631213e7b",
   "metadata": {},
   "outputs": [],
   "source": [
    "import scipy.stats as stats"
   ]
  },
  {
   "cell_type": "code",
   "execution_count": null,
   "id": "057fd3ce-2f3a-48ee-8f64-a7068b1e004a",
   "metadata": {},
   "outputs": [],
   "source": [
    "# One way ANOVA for comparison among different LLMs"
   ]
  },
  {
   "cell_type": "code",
   "execution_count": 7,
   "id": "b81db809-f1ca-429e-aeae-162b1424b4d2",
   "metadata": {},
   "outputs": [
    {
     "data": {
      "text/plain": [
       "F_onewayResult(statistic=1.5096278273301669, pvalue=0.22155501137772818)"
      ]
     },
     "execution_count": 7,
     "metadata": {},
     "output_type": "execute_result"
    }
   ],
   "source": [
    "stats.f_oneway(df['Score'][df['Model'] == 'ChatGPT-4o'],\n",
    "               df['Score'][df['Model'] == 'Gemini'],\n",
    "               df['Score'][df['Model'] == 'Llama-3'])"
   ]
  },
  {
   "cell_type": "code",
   "execution_count": null,
   "id": "f312bd90-7574-46d3-89bf-4aa78e515c45",
   "metadata": {},
   "outputs": [],
   "source": [
    "# One way ANOVA for comparison between human and LLMs"
   ]
  },
  {
   "cell_type": "code",
   "execution_count": 5,
   "id": "049cd32a-58d4-4690-961c-c98c2a8c354f",
   "metadata": {},
   "outputs": [
    {
     "data": {
      "text/plain": [
       "F_onewayResult(statistic=2.671539254620656, pvalue=0.10241665306809788)"
      ]
     },
     "execution_count": 5,
     "metadata": {},
     "output_type": "execute_result"
    }
   ],
   "source": [
    "stats.f_oneway(df['Score'][df['Model'] != 'human'],\n",
    "               df['Score'][df['Model'] == 'human'])"
   ]
  }
 ],
 "metadata": {
  "kernelspec": {
   "display_name": "Python 3 (ipykernel)",
   "language": "python",
   "name": "python3"
  },
  "language_info": {
   "codemirror_mode": {
    "name": "ipython",
    "version": 3
   },
   "file_extension": ".py",
   "mimetype": "text/x-python",
   "name": "python",
   "nbconvert_exporter": "python",
   "pygments_lexer": "ipython3",
   "version": "3.11.3"
  }
 },
 "nbformat": 4,
 "nbformat_minor": 5
}
